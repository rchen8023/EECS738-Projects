{
 "cells": [
  {
   "cell_type": "markdown",
   "metadata": {},
   "source": [
    "# Upload Datasets\n",
    "\n",
    "This dataset I downloaded from UCI Machine Learning Repository. It contains 8 features and 1 classification label column in 3 classes, I will use 90% of the dataset as training data, and the rest are testing data. And there are 3 nodes in output layer. "
   ]
  },
  {
   "cell_type": "code",
   "execution_count": 1,
   "metadata": {},
   "outputs": [
    {
     "data": {
      "text/html": [
       "<div>\n",
       "<style scoped>\n",
       "    .dataframe tbody tr th:only-of-type {\n",
       "        vertical-align: middle;\n",
       "    }\n",
       "\n",
       "    .dataframe tbody tr th {\n",
       "        vertical-align: top;\n",
       "    }\n",
       "\n",
       "    .dataframe thead th {\n",
       "        text-align: right;\n",
       "    }\n",
       "</style>\n",
       "<table border=\"1\" class=\"dataframe\">\n",
       "  <thead>\n",
       "    <tr style=\"text-align: right;\">\n",
       "      <th></th>\n",
       "      <th>0</th>\n",
       "      <th>1</th>\n",
       "      <th>2</th>\n",
       "      <th>3</th>\n",
       "      <th>4</th>\n",
       "      <th>5</th>\n",
       "      <th>6</th>\n",
       "      <th>7</th>\n",
       "      <th>8</th>\n",
       "    </tr>\n",
       "  </thead>\n",
       "  <tbody>\n",
       "    <tr>\n",
       "      <td>0</td>\n",
       "      <td>M</td>\n",
       "      <td>0.455</td>\n",
       "      <td>0.365</td>\n",
       "      <td>0.095</td>\n",
       "      <td>0.5140</td>\n",
       "      <td>0.2245</td>\n",
       "      <td>0.1010</td>\n",
       "      <td>0.1500</td>\n",
       "      <td>15</td>\n",
       "    </tr>\n",
       "    <tr>\n",
       "      <td>1</td>\n",
       "      <td>M</td>\n",
       "      <td>0.350</td>\n",
       "      <td>0.265</td>\n",
       "      <td>0.090</td>\n",
       "      <td>0.2255</td>\n",
       "      <td>0.0995</td>\n",
       "      <td>0.0485</td>\n",
       "      <td>0.0700</td>\n",
       "      <td>7</td>\n",
       "    </tr>\n",
       "    <tr>\n",
       "      <td>2</td>\n",
       "      <td>F</td>\n",
       "      <td>0.530</td>\n",
       "      <td>0.420</td>\n",
       "      <td>0.135</td>\n",
       "      <td>0.6770</td>\n",
       "      <td>0.2565</td>\n",
       "      <td>0.1415</td>\n",
       "      <td>0.2100</td>\n",
       "      <td>9</td>\n",
       "    </tr>\n",
       "    <tr>\n",
       "      <td>3</td>\n",
       "      <td>M</td>\n",
       "      <td>0.440</td>\n",
       "      <td>0.365</td>\n",
       "      <td>0.125</td>\n",
       "      <td>0.5160</td>\n",
       "      <td>0.2155</td>\n",
       "      <td>0.1140</td>\n",
       "      <td>0.1550</td>\n",
       "      <td>10</td>\n",
       "    </tr>\n",
       "    <tr>\n",
       "      <td>4</td>\n",
       "      <td>I</td>\n",
       "      <td>0.330</td>\n",
       "      <td>0.255</td>\n",
       "      <td>0.080</td>\n",
       "      <td>0.2050</td>\n",
       "      <td>0.0895</td>\n",
       "      <td>0.0395</td>\n",
       "      <td>0.0550</td>\n",
       "      <td>7</td>\n",
       "    </tr>\n",
       "    <tr>\n",
       "      <td>...</td>\n",
       "      <td>...</td>\n",
       "      <td>...</td>\n",
       "      <td>...</td>\n",
       "      <td>...</td>\n",
       "      <td>...</td>\n",
       "      <td>...</td>\n",
       "      <td>...</td>\n",
       "      <td>...</td>\n",
       "      <td>...</td>\n",
       "    </tr>\n",
       "    <tr>\n",
       "      <td>4172</td>\n",
       "      <td>F</td>\n",
       "      <td>0.565</td>\n",
       "      <td>0.450</td>\n",
       "      <td>0.165</td>\n",
       "      <td>0.8870</td>\n",
       "      <td>0.3700</td>\n",
       "      <td>0.2390</td>\n",
       "      <td>0.2490</td>\n",
       "      <td>11</td>\n",
       "    </tr>\n",
       "    <tr>\n",
       "      <td>4173</td>\n",
       "      <td>M</td>\n",
       "      <td>0.590</td>\n",
       "      <td>0.440</td>\n",
       "      <td>0.135</td>\n",
       "      <td>0.9660</td>\n",
       "      <td>0.4390</td>\n",
       "      <td>0.2145</td>\n",
       "      <td>0.2605</td>\n",
       "      <td>10</td>\n",
       "    </tr>\n",
       "    <tr>\n",
       "      <td>4174</td>\n",
       "      <td>M</td>\n",
       "      <td>0.600</td>\n",
       "      <td>0.475</td>\n",
       "      <td>0.205</td>\n",
       "      <td>1.1760</td>\n",
       "      <td>0.5255</td>\n",
       "      <td>0.2875</td>\n",
       "      <td>0.3080</td>\n",
       "      <td>9</td>\n",
       "    </tr>\n",
       "    <tr>\n",
       "      <td>4175</td>\n",
       "      <td>F</td>\n",
       "      <td>0.625</td>\n",
       "      <td>0.485</td>\n",
       "      <td>0.150</td>\n",
       "      <td>1.0945</td>\n",
       "      <td>0.5310</td>\n",
       "      <td>0.2610</td>\n",
       "      <td>0.2960</td>\n",
       "      <td>10</td>\n",
       "    </tr>\n",
       "    <tr>\n",
       "      <td>4176</td>\n",
       "      <td>M</td>\n",
       "      <td>0.710</td>\n",
       "      <td>0.555</td>\n",
       "      <td>0.195</td>\n",
       "      <td>1.9485</td>\n",
       "      <td>0.9455</td>\n",
       "      <td>0.3765</td>\n",
       "      <td>0.4950</td>\n",
       "      <td>12</td>\n",
       "    </tr>\n",
       "  </tbody>\n",
       "</table>\n",
       "<p>4177 rows × 9 columns</p>\n",
       "</div>"
      ],
      "text/plain": [
       "      0      1      2      3       4       5       6       7   8\n",
       "0     M  0.455  0.365  0.095  0.5140  0.2245  0.1010  0.1500  15\n",
       "1     M  0.350  0.265  0.090  0.2255  0.0995  0.0485  0.0700   7\n",
       "2     F  0.530  0.420  0.135  0.6770  0.2565  0.1415  0.2100   9\n",
       "3     M  0.440  0.365  0.125  0.5160  0.2155  0.1140  0.1550  10\n",
       "4     I  0.330  0.255  0.080  0.2050  0.0895  0.0395  0.0550   7\n",
       "...  ..    ...    ...    ...     ...     ...     ...     ...  ..\n",
       "4172  F  0.565  0.450  0.165  0.8870  0.3700  0.2390  0.2490  11\n",
       "4173  M  0.590  0.440  0.135  0.9660  0.4390  0.2145  0.2605  10\n",
       "4174  M  0.600  0.475  0.205  1.1760  0.5255  0.2875  0.3080   9\n",
       "4175  F  0.625  0.485  0.150  1.0945  0.5310  0.2610  0.2960  10\n",
       "4176  M  0.710  0.555  0.195  1.9485  0.9455  0.3765  0.4950  12\n",
       "\n",
       "[4177 rows x 9 columns]"
      ]
     },
     "execution_count": 1,
     "metadata": {},
     "output_type": "execute_result"
    }
   ],
   "source": [
    "import numpy as np\n",
    "import pandas as pd\n",
    "import matplotlib.pyplot as plt\n",
    "\n",
    "data = pd.read_csv('data/abalone.csv',header=None)\n",
    "data"
   ]
  },
  {
   "cell_type": "code",
   "execution_count": 2,
   "metadata": {},
   "outputs": [
    {
     "data": {
      "text/html": [
       "<div>\n",
       "<style scoped>\n",
       "    .dataframe tbody tr th:only-of-type {\n",
       "        vertical-align: middle;\n",
       "    }\n",
       "\n",
       "    .dataframe tbody tr th {\n",
       "        vertical-align: top;\n",
       "    }\n",
       "\n",
       "    .dataframe thead th {\n",
       "        text-align: right;\n",
       "    }\n",
       "</style>\n",
       "<table border=\"1\" class=\"dataframe\">\n",
       "  <thead>\n",
       "    <tr style=\"text-align: right;\">\n",
       "      <th></th>\n",
       "      <th>0</th>\n",
       "      <th>1</th>\n",
       "      <th>2</th>\n",
       "      <th>3</th>\n",
       "      <th>4</th>\n",
       "      <th>5</th>\n",
       "      <th>6</th>\n",
       "      <th>7</th>\n",
       "      <th>8</th>\n",
       "    </tr>\n",
       "  </thead>\n",
       "  <tbody>\n",
       "    <tr>\n",
       "      <td>0</td>\n",
       "      <td>2</td>\n",
       "      <td>0.455</td>\n",
       "      <td>0.365</td>\n",
       "      <td>0.095</td>\n",
       "      <td>0.5140</td>\n",
       "      <td>0.2245</td>\n",
       "      <td>0.1010</td>\n",
       "      <td>0.1500</td>\n",
       "      <td>15</td>\n",
       "    </tr>\n",
       "    <tr>\n",
       "      <td>1</td>\n",
       "      <td>2</td>\n",
       "      <td>0.350</td>\n",
       "      <td>0.265</td>\n",
       "      <td>0.090</td>\n",
       "      <td>0.2255</td>\n",
       "      <td>0.0995</td>\n",
       "      <td>0.0485</td>\n",
       "      <td>0.0700</td>\n",
       "      <td>7</td>\n",
       "    </tr>\n",
       "    <tr>\n",
       "      <td>2</td>\n",
       "      <td>0</td>\n",
       "      <td>0.530</td>\n",
       "      <td>0.420</td>\n",
       "      <td>0.135</td>\n",
       "      <td>0.6770</td>\n",
       "      <td>0.2565</td>\n",
       "      <td>0.1415</td>\n",
       "      <td>0.2100</td>\n",
       "      <td>9</td>\n",
       "    </tr>\n",
       "    <tr>\n",
       "      <td>3</td>\n",
       "      <td>2</td>\n",
       "      <td>0.440</td>\n",
       "      <td>0.365</td>\n",
       "      <td>0.125</td>\n",
       "      <td>0.5160</td>\n",
       "      <td>0.2155</td>\n",
       "      <td>0.1140</td>\n",
       "      <td>0.1550</td>\n",
       "      <td>10</td>\n",
       "    </tr>\n",
       "    <tr>\n",
       "      <td>4</td>\n",
       "      <td>1</td>\n",
       "      <td>0.330</td>\n",
       "      <td>0.255</td>\n",
       "      <td>0.080</td>\n",
       "      <td>0.2050</td>\n",
       "      <td>0.0895</td>\n",
       "      <td>0.0395</td>\n",
       "      <td>0.0550</td>\n",
       "      <td>7</td>\n",
       "    </tr>\n",
       "    <tr>\n",
       "      <td>...</td>\n",
       "      <td>...</td>\n",
       "      <td>...</td>\n",
       "      <td>...</td>\n",
       "      <td>...</td>\n",
       "      <td>...</td>\n",
       "      <td>...</td>\n",
       "      <td>...</td>\n",
       "      <td>...</td>\n",
       "      <td>...</td>\n",
       "    </tr>\n",
       "    <tr>\n",
       "      <td>4172</td>\n",
       "      <td>0</td>\n",
       "      <td>0.565</td>\n",
       "      <td>0.450</td>\n",
       "      <td>0.165</td>\n",
       "      <td>0.8870</td>\n",
       "      <td>0.3700</td>\n",
       "      <td>0.2390</td>\n",
       "      <td>0.2490</td>\n",
       "      <td>11</td>\n",
       "    </tr>\n",
       "    <tr>\n",
       "      <td>4173</td>\n",
       "      <td>2</td>\n",
       "      <td>0.590</td>\n",
       "      <td>0.440</td>\n",
       "      <td>0.135</td>\n",
       "      <td>0.9660</td>\n",
       "      <td>0.4390</td>\n",
       "      <td>0.2145</td>\n",
       "      <td>0.2605</td>\n",
       "      <td>10</td>\n",
       "    </tr>\n",
       "    <tr>\n",
       "      <td>4174</td>\n",
       "      <td>2</td>\n",
       "      <td>0.600</td>\n",
       "      <td>0.475</td>\n",
       "      <td>0.205</td>\n",
       "      <td>1.1760</td>\n",
       "      <td>0.5255</td>\n",
       "      <td>0.2875</td>\n",
       "      <td>0.3080</td>\n",
       "      <td>9</td>\n",
       "    </tr>\n",
       "    <tr>\n",
       "      <td>4175</td>\n",
       "      <td>0</td>\n",
       "      <td>0.625</td>\n",
       "      <td>0.485</td>\n",
       "      <td>0.150</td>\n",
       "      <td>1.0945</td>\n",
       "      <td>0.5310</td>\n",
       "      <td>0.2610</td>\n",
       "      <td>0.2960</td>\n",
       "      <td>10</td>\n",
       "    </tr>\n",
       "    <tr>\n",
       "      <td>4176</td>\n",
       "      <td>2</td>\n",
       "      <td>0.710</td>\n",
       "      <td>0.555</td>\n",
       "      <td>0.195</td>\n",
       "      <td>1.9485</td>\n",
       "      <td>0.9455</td>\n",
       "      <td>0.3765</td>\n",
       "      <td>0.4950</td>\n",
       "      <td>12</td>\n",
       "    </tr>\n",
       "  </tbody>\n",
       "</table>\n",
       "<p>4177 rows × 9 columns</p>\n",
       "</div>"
      ],
      "text/plain": [
       "      0      1      2      3       4       5       6       7   8\n",
       "0     2  0.455  0.365  0.095  0.5140  0.2245  0.1010  0.1500  15\n",
       "1     2  0.350  0.265  0.090  0.2255  0.0995  0.0485  0.0700   7\n",
       "2     0  0.530  0.420  0.135  0.6770  0.2565  0.1415  0.2100   9\n",
       "3     2  0.440  0.365  0.125  0.5160  0.2155  0.1140  0.1550  10\n",
       "4     1  0.330  0.255  0.080  0.2050  0.0895  0.0395  0.0550   7\n",
       "...  ..    ...    ...    ...     ...     ...     ...     ...  ..\n",
       "4172  0  0.565  0.450  0.165  0.8870  0.3700  0.2390  0.2490  11\n",
       "4173  2  0.590  0.440  0.135  0.9660  0.4390  0.2145  0.2605  10\n",
       "4174  2  0.600  0.475  0.205  1.1760  0.5255  0.2875  0.3080   9\n",
       "4175  0  0.625  0.485  0.150  1.0945  0.5310  0.2610  0.2960  10\n",
       "4176  2  0.710  0.555  0.195  1.9485  0.9455  0.3765  0.4950  12\n",
       "\n",
       "[4177 rows x 9 columns]"
      ]
     },
     "execution_count": 2,
     "metadata": {},
     "output_type": "execute_result"
    }
   ],
   "source": [
    "from sklearn.preprocessing import LabelEncoder\n",
    "\n",
    "le = LabelEncoder()\n",
    "data[0] = le.fit_transform(data[0])\n",
    "data"
   ]
  },
  {
   "cell_type": "markdown",
   "metadata": {},
   "source": [
    "# Create possible active functions and derivatives"
   ]
  },
  {
   "cell_type": "code",
   "execution_count": 3,
   "metadata": {},
   "outputs": [],
   "source": [
    "def sigmoid(x):  \n",
    "    return 1/(1 + np.exp(-1*x))\n",
    "\n",
    "def sigmoid_d(x):\n",
    "    return sigmoid(x) * (1-sigmoid(x))\n",
    "\n",
    "def tanh(x):\n",
    "    return (np.exp(x) - np.exp(-x)) / (np.exp(x) + np.exp(-x))\n",
    "\n",
    "def tanh_d(x):\n",
    "    return 1 - tanh(x)**2\n",
    "\n",
    "def relu(x):\n",
    "    return np.maximum(0,x)\n",
    "\n",
    "def relu_d(x):\n",
    "    x[x<0] = 0\n",
    "    x[x>=0] = 1\n",
    "    return x\n",
    "\n",
    "def softmax(x):\n",
    "    exp = np.exp(x)\n",
    "    scores = exp / exp.sum(axis=1, keepdims=True)\n",
    "    \n",
    "    return scores"
   ]
  },
  {
   "cell_type": "markdown",
   "metadata": {},
   "source": [
    "# First randomly initialize weights and bias"
   ]
  },
  {
   "cell_type": "code",
   "execution_count": 4,
   "metadata": {},
   "outputs": [],
   "source": [
    "def initialization(num_input, num_hidden, num_output):\n",
    "    parameters = {}\n",
    "    \n",
    "    parameters['weight_hidden'] = np.random.rand(num_input,num_hidden)\n",
    "    parameters['weight_output'] = np.random.rand(num_hidden,num_output)\n",
    "    \n",
    "    parameters['bias_hidden'] = np.zeros((1, num_hidden))\n",
    "    parameters['bias_output'] = np.zeros((1, num_output))\n",
    "    \n",
    "    return parameters"
   ]
  },
  {
   "cell_type": "markdown",
   "metadata": {},
   "source": [
    "# Define forward propagation"
   ]
  },
  {
   "cell_type": "code",
   "execution_count": 5,
   "metadata": {},
   "outputs": [],
   "source": [
    "def activate(f, activation):\n",
    "    if activation == 'sigmoid':\n",
    "        a = sigmoid(f)\n",
    "    elif activation == 'tanh':\n",
    "        a = tanh(f)\n",
    "    elif activation == 'relu':\n",
    "        a = relu(f)\n",
    "        \n",
    "    return a\n",
    "\n",
    "def activate_derivative(f, activation):\n",
    "    if activation == 'sigmoid':\n",
    "        a_d = sigmoid_d(f)\n",
    "    elif activation == 'tanh':\n",
    "        a_d = tanh_d(f)\n",
    "    elif activation == 'relu':\n",
    "        a_d = relu_d(f)\n",
    "\n",
    "    return a_d"
   ]
  },
  {
   "cell_type": "markdown",
   "metadata": {},
   "source": [
    "For this dataset, I want to define a model that use different activation funciton on hidden layer and output layer, since there are multiple nodes in output layer, so I fixed to use softmax activation funciton in output layer, and other function in hidden layer"
   ]
  },
  {
   "cell_type": "code",
   "execution_count": 6,
   "metadata": {},
   "outputs": [],
   "source": [
    "def forward(x, parameters, activation):\n",
    "    predict = {}\n",
    "    \n",
    "    predict['input_hidden'] = np.dot(x, parameters['weight_hidden']) + parameters['bias_hidden']\n",
    "    predict['output_hidden'] = activate(predict['input_hidden'], activation)\n",
    "        \n",
    "    predict['input_output'] = np.dot(predict['output_hidden'], parameters['weight_output']) + parameters['bias_output']\n",
    "    predict['predict_y'] = softmax(predict['input_output'])\n",
    "    \n",
    "    return predict"
   ]
  },
  {
   "cell_type": "markdown",
   "metadata": {},
   "source": [
    "# Define Backpropagation"
   ]
  },
  {
   "cell_type": "markdown",
   "metadata": {},
   "source": [
    "Since I used softmax in output layer and used cross entropy as cost funciton, so when update the weights in output layer, the derivative of cross entropy loss with softmax is $\\hat{Y} - Y$\n",
    "\n",
    "https://stackabuse.com/creating-a-neural-network-from-scratch-in-python-multi-class-classification/ "
   ]
  },
  {
   "cell_type": "code",
   "execution_count": 7,
   "metadata": {},
   "outputs": [],
   "source": [
    "def backpropagation(x, y, parameters, predict, learning_rate, activation):\n",
    "    # derivative of cross entropy loss with softmax\n",
    "    der_cross_softmax = predict['predict_y'] - y\n",
    "    \n",
    "    dw_output = np.dot(predict['output_hidden'].T, der_cross_softmax)\n",
    "    db_output = np.sum(der_cross_softmax, axis=0,keepdims=True)\n",
    "    \n",
    "    p2 = np.dot(der_cross_softmax,parameters['weight_output'].T)\n",
    "    activate_dhidden = activate_derivative(predict['input_hidden'],activation)\n",
    "    dw_hidden = np.dot(x.T, activate_dhidden * p2)\n",
    "    db_hidden = np.sum(p2 * activate_dhidden, axis=0,keepdims=True)\n",
    "    \n",
    "    parameters['weight_hidden'] -= learning_rate * dw_hidden\n",
    "    parameters['weight_output'] -= learning_rate * dw_output\n",
    "    parameters['bias_hidden'] -= learning_rate * db_hidden\n",
    "    parameters['bias_output'] -= learning_rate * db_output\n",
    "    \n",
    "    return parameters"
   ]
  },
  {
   "cell_type": "markdown",
   "metadata": {},
   "source": [
    "# Generate neural network model\n",
    "\n",
    "Now create the neural network model. For this model, I used Cross Entropy as the cost funciton\n",
    "\n",
    "Cross Entropy: $-\\sum (Y * log(\\hat{Y}))$"
   ]
  },
  {
   "cell_type": "code",
   "execution_count": 8,
   "metadata": {},
   "outputs": [],
   "source": [
    "def NN_model(x, y, hidden_width, activation, learning_rate, epochs):\n",
    "    parameter = initialization(x.shape[1], hidden_width, y.shape[1])\n",
    "    LOSS = []\n",
    "    for epoch in range(epochs):\n",
    "        \n",
    "        prediction = forward(x,parameter,activation)\n",
    "\n",
    "        # cross entropy\n",
    "        loss = (-np.sum(y * np.log(prediction['predict_y'])))/y.shape[0]\n",
    "        LOSS.append(loss)\n",
    "\n",
    "        \n",
    "        parameter = backpropagation(x, y, parameter, prediction, learning_rate, activation)\n",
    "        \n",
    "        if epoch % 1000 == 0:\n",
    "            print(\"After %d epochs, Cross Entropy is now: %f\" % (epoch, loss))\n",
    "        \n",
    "    return parameter, prediction, LOSS"
   ]
  },
  {
   "cell_type": "markdown",
   "metadata": {},
   "source": [
    "# Make predition on testing data and calculate accuracy"
   ]
  },
  {
   "cell_type": "code",
   "execution_count": 9,
   "metadata": {},
   "outputs": [],
   "source": [
    "def predict_model(x, y, parameter, hidden_width, activation):\n",
    "    prediction = forward(x, parameter, activation)\n",
    "    \n",
    "    predict_y = np.argmax(prediction['predict_y'],axis=1)\n",
    "    y_label = np.argmax(y,axis=1)\n",
    "    correct_predictions = np.sum(predict_y == y_label)\n",
    "    accuracy = correct_predictions / len(y_label)\n",
    "    return accuracy\n",
    "    "
   ]
  },
  {
   "cell_type": "code",
   "execution_count": 10,
   "metadata": {},
   "outputs": [],
   "source": [
    "# use 90% of the dataset as training data, and rest as testing data\n",
    "training_data = data[:int(0.9*len(data))]\n",
    "testing_data = data[int(0.9*len(data)):]\n",
    "\n",
    "sample_training = np.array(training_data.drop([0], axis=1))\n",
    "label_training = np.array(pd.get_dummies(training_data[0].values))\n",
    "\n",
    "sample_testing = np.array(testing_data.drop([0], axis=1))\n",
    "label_testing = np.array(pd.get_dummies(testing_data[0].values))"
   ]
  },
  {
   "cell_type": "code",
   "execution_count": 11,
   "metadata": {},
   "outputs": [
    {
     "name": "stdout",
     "output_type": "stream",
     "text": [
      "After 0 epochs, Cross Entropy is now: 1.239760\n",
      "After 1000 epochs, Cross Entropy is now: 0.971453\n",
      "After 2000 epochs, Cross Entropy is now: 0.908391\n",
      "After 3000 epochs, Cross Entropy is now: 0.890025\n",
      "After 4000 epochs, Cross Entropy is now: 0.883983\n",
      "After 5000 epochs, Cross Entropy is now: 0.880917\n",
      "After 6000 epochs, Cross Entropy is now: 0.878595\n",
      "After 7000 epochs, Cross Entropy is now: 0.876601\n",
      "After 8000 epochs, Cross Entropy is now: 0.874848\n",
      "After 9000 epochs, Cross Entropy is now: 0.873308\n"
     ]
    },
    {
     "data": {
      "image/png": "[encoded data removed]",
      "text/plain": [
       "<Figure size 432x288 with 1 Axes>"
      ]
     },
     "metadata": {
      "needs_background": "light"
     },
     "output_type": "display_data"
    }
   ],
   "source": [
    "parameter,prediction,LOSS = NN_model(sample_training, label_training, 20, 'sigmoid', 0.00001, 10000)\n",
    "x = np.arange(0,10000)\n",
    "plt.figure()\n",
    "plt.plot(x,LOSS)\n",
    "plt.show()"
   ]
  },
  {
   "cell_type": "code",
   "execution_count": 12,
   "metadata": {},
   "outputs": [
    {
     "name": "stdout",
     "output_type": "stream",
     "text": [
      "The prediction accuracy is: 0.533493\n"
     ]
    }
   ],
   "source": [
    "accuracy = predict_model(sample_testing, label_testing, parameter, 20, 'sigmoid')\n",
    "print(\"The prediction accuracy is: %f\" % accuracy)"
   ]
  },
  {
   "cell_type": "markdown",
   "metadata": {},
   "source": [
    "The plot shows the cost value of each epoch during the training. From the plot, we can see that the cost value is reduced during the model training, however, it still a high cost in the end, and the accurcy in predict testing data is only 53%, which is not a very good prediction model. I assume this may because this is a multi-classification data, so it need a more complex model to predict, for example, have more hidden layer or more number of nodes in each hidden layer may effect the accuracy."
   ]
  },
  {
   "cell_type": "markdown",
   "metadata": {},
   "source": [
    "I then tested this model will different activation function. The result shows that the training is more faster when using ReLu activation function, and tanh is more accurate. "
   ]
  },
  {
   "cell_type": "code",
   "execution_count": 13,
   "metadata": {},
   "outputs": [
    {
     "name": "stdout",
     "output_type": "stream",
     "text": [
      "After 0 epochs, Cross Entropy is now: 7.882140\n",
      "After 1000 epochs, Cross Entropy is now: 0.880742\n",
      "After 2000 epochs, Cross Entropy is now: 0.873749\n",
      "After 3000 epochs, Cross Entropy is now: 0.872328\n",
      "After 4000 epochs, Cross Entropy is now: 0.871856\n",
      "After 5000 epochs, Cross Entropy is now: 0.871420\n",
      "After 6000 epochs, Cross Entropy is now: 0.870717\n",
      "After 7000 epochs, Cross Entropy is now: 0.870063\n",
      "After 8000 epochs, Cross Entropy is now: 0.869605\n",
      "After 9000 epochs, Cross Entropy is now: 0.870440\n"
     ]
    },
    {
     "data": {
      "image/png": "[encoded data removed]",
      "text/plain": [
       "<Figure size 432x288 with 1 Axes>"
      ]
     },
     "metadata": {
      "needs_background": "light"
     },
     "output_type": "display_data"
    },
    {
     "name": "stdout",
     "output_type": "stream",
     "text": [
      "The prediction accuracy is: 0.543062\n"
     ]
    }
   ],
   "source": [
    "parameter,prediction,MSE = NN_model(sample_training, label_training, 20, 'relu', 0.00001, 10000)\n",
    "x = np.arange(0,10000)\n",
    "plt.figure()\n",
    "plt.plot(x,LOSS)\n",
    "plt.show()\n",
    "\n",
    "accuracy = predict_model(sample_testing, label_testing, parameter, 20, 'relu')\n",
    "print(\"The prediction accuracy is: %f\" % accuracy)"
   ]
  },
  {
   "cell_type": "code",
   "execution_count": 14,
   "metadata": {},
   "outputs": [
    {
     "name": "stdout",
     "output_type": "stream",
     "text": [
      "After 0 epochs, Cross Entropy is now: 1.178746\n",
      "After 1000 epochs, Cross Entropy is now: 0.892718\n",
      "After 2000 epochs, Cross Entropy is now: 0.885063\n",
      "After 3000 epochs, Cross Entropy is now: 0.875349\n",
      "After 4000 epochs, Cross Entropy is now: 0.872329\n",
      "After 5000 epochs, Cross Entropy is now: 0.870363\n",
      "After 6000 epochs, Cross Entropy is now: 0.868470\n",
      "After 7000 epochs, Cross Entropy is now: 0.866510\n",
      "After 8000 epochs, Cross Entropy is now: 0.863103\n",
      "After 9000 epochs, Cross Entropy is now: 0.861170\n"
     ]
    },
    {
     "data": {
      "image/png": "[encoded data removed]",
      "text/plain": [
       "<Figure size 432x288 with 1 Axes>"
      ]
     },
     "metadata": {
      "needs_background": "light"
     },
     "output_type": "display_data"
    },
    {
     "name": "stdout",
     "output_type": "stream",
     "text": [
      "The prediction accuracy is: 0.566986\n"
     ]
    }
   ],
   "source": [
    "parameter,prediction,MSE = NN_model(sample_training, label_training, 20, 'tanh', 0.00001, 10000)\n",
    "x = np.arange(0,10000)\n",
    "plt.figure()\n",
    "plt.plot(x,LOSS)\n",
    "plt.show()\n",
    "\n",
    "accuracy = predict_model(sample_testing, label_testing, parameter, 20, 'tanh')\n",
    "print(\"The prediction accuracy is: %f\" % accuracy)"
   ]
  },
  {
   "cell_type": "code",
   "execution_count": null,
   "metadata": {},
   "outputs": [],
   "source": []
  }
 ],
 "metadata": {
  "kernelspec": {
   "display_name": "Python 3",
   "language": "python",
   "name": "python3"
  },
  "language_info": {
   "codemirror_mode": {
    "name": "ipython",
    "version": 3
   },
   "file_extension": ".py",
   "mimetype": "text/x-python",
   "name": "python",
   "nbconvert_exporter": "python",
   "pygments_lexer": "ipython3",
   "version": "3.7.4"
  }
 },
 "nbformat": 4,
 "nbformat_minor": 2
}
