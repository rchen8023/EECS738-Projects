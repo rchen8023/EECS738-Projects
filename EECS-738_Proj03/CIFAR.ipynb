{
 "cells": [
  {
   "cell_type": "code",
   "execution_count": 1,
   "metadata": {},
   "outputs": [],
   "source": [
    "import torch\n",
    "from torch.utils.data import Dataset\n",
    "from torchvision import datasets\n",
    "from torchvision.transforms import ToTensor, Grayscale, Compose\n",
    "\n",
    "import numpy as np\n",
    "import matplotlib.pyplot as plt"
   ]
  },
  {
   "cell_type": "markdown",
   "metadata": {},
   "source": [
    "This dataset are downloaded through PyTorch. The CIFAR-10 dataset consists of 60000 32x32 colour images in 10 classes, with 6000 images per class. There are 50000 training images and 10000 test images. To make the prediction easier, I downloaded the grayscale of the image and convert the image data into numerical values."
   ]
  },
  {
   "cell_type": "code",
   "execution_count": 2,
   "metadata": {},
   "outputs": [
    {
     "name": "stdout",
     "output_type": "stream",
     "text": [
      "Files already downloaded and verified\n",
      "Files already downloaded and verified\n"
     ]
    }
   ],
   "source": [
    "training_data = datasets.CIFAR10(\n",
    "    root=\"data\",\n",
    "    train=True,\n",
    "    download=True,\n",
    "    transform=Compose([Grayscale(),ToTensor()])\n",
    ")\n",
    "\n",
    "testing_data = datasets.CIFAR10(\n",
    "    root=\"data\",\n",
    "    train=False,\n",
    "    download=True,\n",
    "    transform=Compose([Grayscale(),ToTensor()])\n",
    ")"
   ]
  },
  {
   "cell_type": "code",
   "execution_count": 3,
   "metadata": {},
   "outputs": [
    {
     "data": {
      "text/plain": [
       "Dataset CIFAR10\n",
       "    Number of datapoints: 50000\n",
       "    Root location: data\n",
       "    Split: Train\n",
       "    StandardTransform\n",
       "Transform: Compose(\n",
       "               Grayscale(num_output_channels=1)\n",
       "               ToTensor()\n",
       "           )"
      ]
     },
     "execution_count": 3,
     "metadata": {},
     "output_type": "execute_result"
    }
   ],
   "source": [
    "training_data"
   ]
  },
  {
   "cell_type": "code",
   "execution_count": 4,
   "metadata": {},
   "outputs": [
    {
     "data": {
      "text/plain": [
       "Dataset CIFAR10\n",
       "    Number of datapoints: 10000\n",
       "    Root location: data\n",
       "    Split: Test\n",
       "    StandardTransform\n",
       "Transform: Compose(\n",
       "               Grayscale(num_output_channels=1)\n",
       "               ToTensor()\n",
       "           )"
      ]
     },
     "execution_count": 4,
     "metadata": {},
     "output_type": "execute_result"
    }
   ],
   "source": [
    "testing_data"
   ]
  },
  {
   "cell_type": "code",
   "execution_count": 5,
   "metadata": {},
   "outputs": [
    {
     "data": {
      "text/plain": [
       "(tensor([[[0.2392, 0.1725, 0.1882,  ..., 0.5373, 0.5098, 0.5020],\n",
       "          [0.0706, 0.0000, 0.0392,  ..., 0.3686, 0.3529, 0.3686],\n",
       "          [0.0902, 0.0314, 0.1216,  ..., 0.3529, 0.3529, 0.3137],\n",
       "          ...,\n",
       "          [0.6745, 0.6000, 0.6118,  ..., 0.5216, 0.1373, 0.1490],\n",
       "          [0.5725, 0.5020, 0.5608,  ..., 0.5961, 0.2706, 0.2314],\n",
       "          [0.5882, 0.5333, 0.5725,  ..., 0.7373, 0.4824, 0.3843]]]), 6)"
      ]
     },
     "execution_count": 5,
     "metadata": {},
     "output_type": "execute_result"
    }
   ],
   "source": [
    "training_data[0]"
   ]
  },
  {
   "cell_type": "markdown",
   "metadata": {},
   "source": [
    "Each instance (image) in the dataset is a 32x32 tensor matrix. To training this data, I define each pixel as one feature of each instance. Then the first step is to flatten the matrix to vector, so that each instance has 1024 features. I only used 10% of the training and testing data so the model will not run too long time. "
   ]
  },
  {
   "cell_type": "code",
   "execution_count": 6,
   "metadata": {},
   "outputs": [
    {
     "name": "stdout",
     "output_type": "stream",
     "text": [
      "(5000, 1024)\n",
      "(1000, 1024)\n"
     ]
    }
   ],
   "source": [
    "training_sample = np.array([x_train[0].numpy().flatten() for x_train in training_data])\n",
    "testing_sample = np.array([x_test[0].numpy().flatten() for x_test in testing_data])\n",
    "\n",
    "training_sample_5k = training_sample[:5000]\n",
    "testing_sample_1k = testing_sample[:1000]\n",
    "\n",
    "print(training_sample_5k.shape)\n",
    "print(testing_sample_1k.shape)"
   ]
  },
  {
   "cell_type": "markdown",
   "metadata": {},
   "source": [
    "The label of this dataset contains 10 classes, so the neural network model of this dataset will have 10 nodes in output layer. "
   ]
  },
  {
   "cell_type": "code",
   "execution_count": 7,
   "metadata": {},
   "outputs": [
    {
     "name": "stdout",
     "output_type": "stream",
     "text": [
      "(5000,)\n",
      "(1000,)\n"
     ]
    }
   ],
   "source": [
    "training_label = np.array([y_train[-1] for y_train in training_data])\n",
    "testing_label = np.array([y_test[-1] for y_test in testing_data])\n",
    "\n",
    "training_label_5k = training_label[:5000]\n",
    "testing_label_1k = testing_label[:1000]\n",
    "\n",
    "print(training_label_5k.shape)\n",
    "print(testing_label_1k.shape)"
   ]
  },
  {
   "cell_type": "markdown",
   "metadata": {},
   "source": [
    "# Create possible active functionsand direvatives"
   ]
  },
  {
   "cell_type": "code",
   "execution_count": 8,
   "metadata": {},
   "outputs": [],
   "source": [
    "def sigmoid(x):  \n",
    "    return 1/(1 + np.exp(-x))\n",
    "\n",
    "def sigmoid_d(x):\n",
    "    return sigmoid(x) * (1-sigmoid(x))\n",
    "\n",
    "def tanh(x):\n",
    "    return (np.exp(x) - np.exp(-x)) / (np.exp(x) + np.exp(-x))\n",
    "\n",
    "def tanh_d(x):\n",
    "    return 1 - tanh(x)**2\n",
    "\n",
    "def relu(x):\n",
    "    return np.maximum(0,x)\n",
    "\n",
    "def relu_d(x):\n",
    "    x[x<0] = 0\n",
    "    x[x>=0] = 1\n",
    "    return x\n",
    "\n",
    "\n",
    "def softmax(x):\n",
    "    exp = np.exp(x)\n",
    "    scores = exp / exp.sum(axis=1, keepdims=True)\n",
    "    \n",
    "    return scores"
   ]
  },
  {
   "cell_type": "markdown",
   "metadata": {},
   "source": [
    "# First randomly initialize weights and bias"
   ]
  },
  {
   "cell_type": "code",
   "execution_count": 9,
   "metadata": {},
   "outputs": [],
   "source": [
    "def initialization(num_input, num_hidden, num_output):\n",
    "    parameters = {}\n",
    "    \n",
    "    parameters['weight_hidden'] = np.random.rand(num_input,num_hidden)\n",
    "    parameters['weight_output'] = np.random.rand(num_hidden,num_output)\n",
    "    \n",
    "    parameters['bias_hidden'] = np.zeros((1, num_hidden))\n",
    "    parameters['bias_output'] = np.zeros((1, num_output))\n",
    "    \n",
    "    return parameters"
   ]
  },
  {
   "cell_type": "markdown",
   "metadata": {},
   "source": [
    "# Define forward propagation"
   ]
  },
  {
   "cell_type": "code",
   "execution_count": 10,
   "metadata": {},
   "outputs": [],
   "source": [
    "def activate(f, activation):\n",
    "    if activation == 'sigmoid':\n",
    "        a = sigmoid(f)\n",
    "    elif activation == 'tanh':\n",
    "        a = tanh(f)\n",
    "    elif activation == 'relu':\n",
    "        a = relu(f)\n",
    "        \n",
    "    return a"
   ]
  },
  {
   "cell_type": "code",
   "execution_count": 11,
   "metadata": {},
   "outputs": [],
   "source": [
    "def activate_derivative(f, activation):\n",
    "    if activation == 'sigmoid':\n",
    "        a_d = sigmoid_d(f)\n",
    "    elif activation == 'tanh':\n",
    "        a_d = tanh_d(f)\n",
    "    elif activation == 'relu':\n",
    "        a_d = relu_d(f)\n",
    "\n",
    "    return a_d"
   ]
  },
  {
   "cell_type": "markdown",
   "metadata": {},
   "source": [
    "For this dataset, I want to define a model that use same activation funciton on hidden layer and output layer"
   ]
  },
  {
   "cell_type": "code",
   "execution_count": 12,
   "metadata": {},
   "outputs": [],
   "source": [
    "def forward(x, parameters, activation):\n",
    "    predict = {}\n",
    "    \n",
    "    predict['input_hidden'] = np.dot(x, parameters['weight_hidden']) + parameters['bias_hidden']\n",
    "    predict['output_hidden'] = activate(predict['input_hidden'], activation)\n",
    "        \n",
    "    predict['input_output'] = np.dot(predict['output_hidden'], parameters['weight_output']) + parameters['bias_output']\n",
    "    predict['predict_y'] = activate(predict['input_output'], activation)\n",
    "    \n",
    "    return predict"
   ]
  },
  {
   "cell_type": "markdown",
   "metadata": {},
   "source": [
    "# Define Backpropagation"
   ]
  },
  {
   "cell_type": "markdown",
   "metadata": {},
   "source": [
    "This is a simple model that only contains one hidden layer"
   ]
  },
  {
   "cell_type": "code",
   "execution_count": 13,
   "metadata": {},
   "outputs": [],
   "source": [
    "def backpropagation(x, y, parameters, predict, learning_rate, activation):\n",
    "\n",
    "    # weight and bias update on output layer\n",
    "    diff = predict['predict_y'] - y\n",
    "    activate_dout = activate_derivative(predict['input_output'],activation)\n",
    "    dw_output = np.dot(predict['output_hidden'].T, activate_dout* diff)\n",
    "    db_output = np.sum(activate_dout*diff, axis=0,keepdims=True)\n",
    "    \n",
    "    # weight and bias update on hidden layer\n",
    "    p2 = np.dot(diff * activate_dout,parameters['weight_output'].T)\n",
    "    activate_dhidden = activate_derivative(predict['input_hidden'],activation)\n",
    "    dw_hidden = np.dot(x.T, activate_dhidden * p2)\n",
    "    db_hidden = np.sum(p2*activate_dhidden, axis=0,keepdims=True)\n",
    "    \n",
    "    parameters['weight_hidden'] -= learning_rate * dw_hidden\n",
    "    parameters['weight_output'] -= learning_rate * dw_output\n",
    "    parameters['bias_hidden'] -= learning_rate * db_hidden\n",
    "    parameters['bias_output'] -= learning_rate * db_output\n",
    "    \n",
    "    return parameters"
   ]
  },
  {
   "cell_type": "markdown",
   "metadata": {},
   "source": [
    "# Generate neural network model"
   ]
  },
  {
   "cell_type": "markdown",
   "metadata": {},
   "source": [
    "Now create the neural network model. For this model, I used Mean Square Error (MSE) as the cost funciton\n",
    "\n",
    "MSE: $\\dfrac{1}{2m} \\sum^{m}_{1} (\\hat{Y} - Y)^{2}$\n",
    "\n",
    "derivative of MSE: $\\hat{Y} - Y$\n"
   ]
  },
  {
   "cell_type": "code",
   "execution_count": 14,
   "metadata": {},
   "outputs": [],
   "source": [
    "def NN_model(x, y, hidden_width, activation, learning_rate, epochs):\n",
    "    parameter = initialization(x.shape[1], hidden_width, y.shape[1])\n",
    "#     parameter = initialization(x.shape[1], hidden_width, 1)\n",
    "    MSE = []\n",
    "    for epoch in range(epochs):\n",
    "        \n",
    "        prediction = forward(x,parameter,activation)\n",
    "        \n",
    "        mse = ((1/2) * np.power((prediction['predict_y'] - y),2)).mean()\n",
    "        MSE.append(mse)\n",
    "\n",
    "        parameter = backpropagation(x, y, parameter, prediction, learning_rate, activation)\n",
    "        \n",
    "        if epoch % 1000 == 0:\n",
    "            print(\"After %d epochs, MSE is now: %f\" % (epoch, mse))\n",
    "        \n",
    "    return parameter, prediction, MSE"
   ]
  },
  {
   "cell_type": "markdown",
   "metadata": {},
   "source": [
    "# Make prediction on testing data and calculate accuracy"
   ]
  },
  {
   "cell_type": "code",
   "execution_count": 15,
   "metadata": {},
   "outputs": [],
   "source": [
    "def predict_model(x, y, parameter, hidden_width, activation):\n",
    "    prediction = forward(x, parameter, activation)\n",
    "    \n",
    "    predict_y = np.argmax(prediction['predict_y'],axis=1)\n",
    "    y_label = np.argmax(y,axis=1)\n",
    "    correct_predictions = np.sum(predict_y == y_label)\n",
    "    accuracy = correct_predictions / len(y_label)\n",
    "    return accuracy\n",
    "    "
   ]
  },
  {
   "cell_type": "code",
   "execution_count": 16,
   "metadata": {},
   "outputs": [
    {
     "data": {
      "text/plain": [
       "(5000, 10)"
      ]
     },
     "execution_count": 16,
     "metadata": {},
     "output_type": "execute_result"
    }
   ],
   "source": [
    "import pandas as pd\n",
    "label_training = np.array(pd.get_dummies(training_label_5k))\n",
    "\n",
    "label_training.shape"
   ]
  },
  {
   "cell_type": "code",
   "execution_count": 17,
   "metadata": {},
   "outputs": [
    {
     "name": "stdout",
     "output_type": "stream",
     "text": [
      "After 0 epochs, MSE is now: 0.449840\n",
      "After 1000 epochs, MSE is now: 0.287873\n",
      "After 2000 epochs, MSE is now: 0.167461\n",
      "After 3000 epochs, MSE is now: 0.167456\n",
      "After 4000 epochs, MSE is now: 0.167319\n",
      "After 5000 epochs, MSE is now: 0.126239\n",
      "After 6000 epochs, MSE is now: 0.126235\n",
      "After 7000 epochs, MSE is now: 0.126116\n",
      "After 8000 epochs, MSE is now: 0.085526\n",
      "After 9000 epochs, MSE is now: 0.085525\n"
     ]
    },
    {
     "data": {
      "image/png": "[encoded data removed]",
      "text/plain": [
       "<Figure size 432x288 with 1 Axes>"
      ]
     },
     "metadata": {
      "needs_background": "light"
     },
     "output_type": "display_data"
    }
   ],
   "source": [
    "parameter,prediction,MSE = NN_model(training_sample_5k, label_training, 20, 'sigmoid', 0.0001, 10000)\n",
    "x = np.arange(0,10000)\n",
    "plt.figure()\n",
    "plt.plot(x,MSE)\n",
    "plt.show()"
   ]
  },
  {
   "cell_type": "code",
   "execution_count": 18,
   "metadata": {},
   "outputs": [
    {
     "name": "stdout",
     "output_type": "stream",
     "text": [
      "The prediction accuracy is: 0.109000\n"
     ]
    }
   ],
   "source": [
    "label_testing = np.array(pd.get_dummies(testing_label_1k))\n",
    "\n",
    "accuracy = predict_model(testing_sample_1k, label_testing, parameter, 20, 'sigmoid')\n",
    "print(\"The prediction accuracy is: %f\" % accuracy)"
   ]
  },
  {
   "cell_type": "markdown",
   "metadata": {},
   "source": [
    "For this prediction model, Since the dataset contains large number of features, so it takes longer time to training the data. The cost plot also shows that the cost value is reduced during the training. But event the meas square error at the end is remains small, but the accuracy is much lower than the model for Abalone dataset. And this dataset contains more feature and more classes, which may proved my assumption that when we have more complex data (large number of features and multiple classifications), we need to have a complex model to increase the accuracy, eg. more hidden layer and more nodes in each hidden layer."
   ]
  }
 ],
 "metadata": {
  "kernelspec": {
   "display_name": "Python 3",
   "language": "python",
   "name": "python3"
  },
  "language_info": {
   "codemirror_mode": {
    "name": "ipython",
    "version": 3
   },
   "file_extension": ".py",
   "mimetype": "text/x-python",
   "name": "python",
   "nbconvert_exporter": "python",
   "pygments_lexer": "ipython3",
   "version": "3.7.4"
  }
 },
 "nbformat": 4,
 "nbformat_minor": 2
}
