{
 "cells": [
  {
   "cell_type": "code",
   "execution_count": 1,
   "metadata": {},
   "outputs": [],
   "source": [
    "import pandas as pd\n",
    "import numpy as np\n",
    "import string\n",
    "import random"
   ]
  },
  {
   "cell_type": "code",
   "execution_count": 2,
   "metadata": {},
   "outputs": [
    {
     "data": {
      "text/html": [
       "<div>\n",
       "<style scoped>\n",
       "    .dataframe tbody tr th:only-of-type {\n",
       "        vertical-align: middle;\n",
       "    }\n",
       "\n",
       "    .dataframe tbody tr th {\n",
       "        vertical-align: top;\n",
       "    }\n",
       "\n",
       "    .dataframe thead th {\n",
       "        text-align: right;\n",
       "    }\n",
       "</style>\n",
       "<table border=\"1\" class=\"dataframe\">\n",
       "  <thead>\n",
       "    <tr style=\"text-align: right;\">\n",
       "      <th></th>\n",
       "      <th>Dataline</th>\n",
       "      <th>Play</th>\n",
       "      <th>PlayerLinenumber</th>\n",
       "      <th>ActSceneLine</th>\n",
       "      <th>Player</th>\n",
       "      <th>PlayerLine</th>\n",
       "    </tr>\n",
       "  </thead>\n",
       "  <tbody>\n",
       "    <tr>\n",
       "      <td>0</td>\n",
       "      <td>1</td>\n",
       "      <td>Henry IV</td>\n",
       "      <td>NaN</td>\n",
       "      <td>NaN</td>\n",
       "      <td>NaN</td>\n",
       "      <td>ACT I</td>\n",
       "    </tr>\n",
       "    <tr>\n",
       "      <td>1</td>\n",
       "      <td>2</td>\n",
       "      <td>Henry IV</td>\n",
       "      <td>NaN</td>\n",
       "      <td>NaN</td>\n",
       "      <td>NaN</td>\n",
       "      <td>SCENE I. London. The palace.</td>\n",
       "    </tr>\n",
       "    <tr>\n",
       "      <td>2</td>\n",
       "      <td>3</td>\n",
       "      <td>Henry IV</td>\n",
       "      <td>NaN</td>\n",
       "      <td>NaN</td>\n",
       "      <td>NaN</td>\n",
       "      <td>Enter KING HENRY, LORD JOHN OF LANCASTER, the ...</td>\n",
       "    </tr>\n",
       "    <tr>\n",
       "      <td>3</td>\n",
       "      <td>4</td>\n",
       "      <td>Henry IV</td>\n",
       "      <td>1.0</td>\n",
       "      <td>1.1.1</td>\n",
       "      <td>KING HENRY IV</td>\n",
       "      <td>So shaken as we are, so wan with care,</td>\n",
       "    </tr>\n",
       "    <tr>\n",
       "      <td>4</td>\n",
       "      <td>5</td>\n",
       "      <td>Henry IV</td>\n",
       "      <td>1.0</td>\n",
       "      <td>1.1.2</td>\n",
       "      <td>KING HENRY IV</td>\n",
       "      <td>Find we a time for frighted peace to pant,</td>\n",
       "    </tr>\n",
       "    <tr>\n",
       "      <td>...</td>\n",
       "      <td>...</td>\n",
       "      <td>...</td>\n",
       "      <td>...</td>\n",
       "      <td>...</td>\n",
       "      <td>...</td>\n",
       "      <td>...</td>\n",
       "    </tr>\n",
       "    <tr>\n",
       "      <td>111391</td>\n",
       "      <td>111392</td>\n",
       "      <td>A Winters Tale</td>\n",
       "      <td>38.0</td>\n",
       "      <td>5.3.180</td>\n",
       "      <td>LEONTES</td>\n",
       "      <td>Lead us from hence, where we may leisurely</td>\n",
       "    </tr>\n",
       "    <tr>\n",
       "      <td>111392</td>\n",
       "      <td>111393</td>\n",
       "      <td>A Winters Tale</td>\n",
       "      <td>38.0</td>\n",
       "      <td>5.3.181</td>\n",
       "      <td>LEONTES</td>\n",
       "      <td>Each one demand an answer to his part</td>\n",
       "    </tr>\n",
       "    <tr>\n",
       "      <td>111393</td>\n",
       "      <td>111394</td>\n",
       "      <td>A Winters Tale</td>\n",
       "      <td>38.0</td>\n",
       "      <td>5.3.182</td>\n",
       "      <td>LEONTES</td>\n",
       "      <td>Perform'd in this wide gap of time since first</td>\n",
       "    </tr>\n",
       "    <tr>\n",
       "      <td>111394</td>\n",
       "      <td>111395</td>\n",
       "      <td>A Winters Tale</td>\n",
       "      <td>38.0</td>\n",
       "      <td>5.3.183</td>\n",
       "      <td>LEONTES</td>\n",
       "      <td>We were dissever'd: hastily lead away.</td>\n",
       "    </tr>\n",
       "    <tr>\n",
       "      <td>111395</td>\n",
       "      <td>111396</td>\n",
       "      <td>A Winters Tale</td>\n",
       "      <td>38.0</td>\n",
       "      <td>NaN</td>\n",
       "      <td>LEONTES</td>\n",
       "      <td>Exeunt</td>\n",
       "    </tr>\n",
       "  </tbody>\n",
       "</table>\n",
       "<p>111396 rows × 6 columns</p>\n",
       "</div>"
      ],
      "text/plain": [
       "        Dataline            Play  PlayerLinenumber ActSceneLine  \\\n",
       "0              1        Henry IV               NaN          NaN   \n",
       "1              2        Henry IV               NaN          NaN   \n",
       "2              3        Henry IV               NaN          NaN   \n",
       "3              4        Henry IV               1.0        1.1.1   \n",
       "4              5        Henry IV               1.0        1.1.2   \n",
       "...          ...             ...               ...          ...   \n",
       "111391    111392  A Winters Tale              38.0      5.3.180   \n",
       "111392    111393  A Winters Tale              38.0      5.3.181   \n",
       "111393    111394  A Winters Tale              38.0      5.3.182   \n",
       "111394    111395  A Winters Tale              38.0      5.3.183   \n",
       "111395    111396  A Winters Tale              38.0          NaN   \n",
       "\n",
       "               Player                                         PlayerLine  \n",
       "0                 NaN                                              ACT I  \n",
       "1                 NaN                       SCENE I. London. The palace.  \n",
       "2                 NaN  Enter KING HENRY, LORD JOHN OF LANCASTER, the ...  \n",
       "3       KING HENRY IV             So shaken as we are, so wan with care,  \n",
       "4       KING HENRY IV         Find we a time for frighted peace to pant,  \n",
       "...               ...                                                ...  \n",
       "111391        LEONTES         Lead us from hence, where we may leisurely  \n",
       "111392        LEONTES              Each one demand an answer to his part  \n",
       "111393        LEONTES     Perform'd in this wide gap of time since first  \n",
       "111394        LEONTES             We were dissever'd: hastily lead away.  \n",
       "111395        LEONTES                                             Exeunt  \n",
       "\n",
       "[111396 rows x 6 columns]"
      ]
     },
     "execution_count": 2,
     "metadata": {},
     "output_type": "execute_result"
    }
   ],
   "source": [
    "# Shakespeare = \"Data/alllines.txt\"\n",
    "# Lines = []\n",
    "# with open(Shakespeare, \"r\") as f:\n",
    "#     line = f.readlines()\n",
    "data = pd.read_csv('Data/Shakespeare_data.csv')\n",
    "data"
   ]
  },
  {
   "cell_type": "markdown",
   "metadata": {},
   "source": [
    "# Generate word dictionaries\n",
    "\n",
    "Since I only need the text to predict words, so I only take the PlayerLine from the dataset. \n",
    "\n",
    "The first I want to do is generate a dictionary to count the probabilities of the current word followed by next word. I also calculated the probabilities of the word occured at the first of the line, so I can use it later to generate new text."
   ]
  },
  {
   "cell_type": "code",
   "execution_count": 3,
   "metadata": {},
   "outputs": [
    {
     "data": {
      "text/plain": [
       "array(['ACT I', 'SCENE I. London. The palace.',\n",
       "       'Enter KING HENRY, LORD JOHN OF LANCASTER, the EARL of WESTMORELAND, SIR WALTER BLUNT, and others',\n",
       "       ..., \"Perform'd in this wide gap of time since first\",\n",
       "       \"We were dissever'd: hastily lead away.\", 'Exeunt'], dtype=object)"
      ]
     },
     "execution_count": 3,
     "metadata": {},
     "output_type": "execute_result"
    }
   ],
   "source": [
    "text = np.array(data['PlayerLine'])\n",
    "text"
   ]
  },
  {
   "cell_type": "markdown",
   "metadata": {},
   "source": [
    "I first removed all the puncuation mark in the training text, so we can have a smaller dictionary. I also add an 'END' flag to the end of each line, so I can get the probability of the word that ends the line."
   ]
  },
  {
   "cell_type": "code",
   "execution_count": 4,
   "metadata": {},
   "outputs": [],
   "source": [
    "dictionary = {}\n",
    "first_word_dict = {}\n",
    "for line in text:\n",
    "    # remove all punctuation mark, change word to lower case\n",
    "    noPun = line.translate(str.maketrans('', '', string.punctuation)).lower()\n",
    "    # store total words without repeat\n",
    "    wordsInLine = noPun.split()\n",
    "    wordsInLine.append('END')\n",
    "    \n",
    "    # count the first word of each line\n",
    "    first_word = wordsInLine[0]\n",
    "    if first_word not in first_word_dict:\n",
    "        first_word_dict[first_word] = 1\n",
    "    else: \n",
    "        first_word_dict[first_word] += 1\n",
    "    \n",
    "    # generate dictionary\n",
    "    for i in range(len(wordsInLine)-1):\n",
    "        current_word = wordsInLine[i]\n",
    "        next_word = wordsInLine[i+1]\n",
    "        if current_word not in dictionary:\n",
    "            dictionary[current_word] = {next_word : 1}\n",
    "        else:\n",
    "            if next_word not in dictionary[current_word]:\n",
    "                dictionary[current_word][next_word] = 1\n",
    "            else:\n",
    "                dictionary[current_word][next_word] += 1"
   ]
  },
  {
   "cell_type": "code",
   "execution_count": 5,
   "metadata": {},
   "outputs": [],
   "source": [
    "# calculate probabilities\n",
    "for current_word in dictionary:\n",
    "    for next_word in dictionary[current_word]:\n",
    "        dictionary[current_word][next_word] = dictionary[current_word][next_word] / sum(dictionary[current_word].values())\n",
    "\n",
    "for word in first_word_dict:\n",
    "    first_word_dict[word] = first_word_dict[word] / sum(first_word_dict.values())"
   ]
  },
  {
   "cell_type": "markdown",
   "metadata": {},
   "source": [
    "# Start to guess next words with given text\n",
    "\n",
    "I created the model with 1st-order Markov Model Chain, so the next word is only depends on the current word. In my model, I directly search for and pick the next_word with highest probability from the dictionary."
   ]
  },
  {
   "cell_type": "code",
   "execution_count": 12,
   "metadata": {},
   "outputs": [],
   "source": [
    "def guess_word(phase,x=0.5):\n",
    "    if type(phase) == str:\n",
    "        givenWords = phase.lower().split()\n",
    "    else:\n",
    "        givenWords = phase\n",
    "\n",
    "    possible_words = dictionary[givenWords[-1]]\n",
    "    \n",
    "    most_frequent_words = max(possible_words, key=possible_words.get)\n",
    "    return most_frequent_words"
   ]
  },
  {
   "cell_type": "code",
   "execution_count": 13,
   "metadata": {},
   "outputs": [
    {
     "data": {
      "text/plain": [
       "'lost'"
      ]
     },
     "execution_count": 13,
     "metadata": {},
     "output_type": "execute_result"
    }
   ],
   "source": [
    "guess_word('I am')"
   ]
  },
  {
   "cell_type": "code",
   "execution_count": 14,
   "metadata": {},
   "outputs": [
    {
     "data": {
      "text/plain": [
       "'patience'"
      ]
     },
     "execution_count": 14,
     "metadata": {},
     "output_type": "execute_result"
    }
   ],
   "source": [
    "guess_word('O')"
   ]
  },
  {
   "cell_type": "code",
   "execution_count": 17,
   "metadata": {},
   "outputs": [
    {
     "data": {
      "text/plain": [
       "'lord'"
      ]
     },
     "execution_count": 17,
     "metadata": {},
     "output_type": "execute_result"
    }
   ],
   "source": [
    "guess_word('O my')"
   ]
  },
  {
   "cell_type": "code",
   "execution_count": 20,
   "metadata": {},
   "outputs": [
    {
     "data": {
      "text/plain": [
       "'hooted'"
      ]
     },
     "execution_count": 20,
     "metadata": {},
     "output_type": "execute_result"
    }
   ],
   "source": [
    "guess_word('I shall be')"
   ]
  },
  {
   "cell_type": "markdown",
   "metadata": {},
   "source": [
    "# Now predict the whole sentence\n",
    "\n",
    "I then predict the sentence, and the model will keep predict until the flag 'END' is predicted. "
   ]
  },
  {
   "cell_type": "code",
   "execution_count": 21,
   "metadata": {},
   "outputs": [],
   "source": [
    "def predict_sentence(phase):\n",
    "    sentence = phase.lower().split()\n",
    "    while sentence[-1] != 'END':\n",
    "        new_word = guess_word(sentence)\n",
    "        if new_word == 'END':\n",
    "            break\n",
    "        sentence.append(new_word)\n",
    "        \n",
    "    return ' '.join(sentence)\n",
    "        \n",
    "        "
   ]
  },
  {
   "cell_type": "code",
   "execution_count": 22,
   "metadata": {},
   "outputs": [
    {
     "data": {
      "text/plain": [
       "'the statue of antigonus that madness'"
      ]
     },
     "execution_count": 22,
     "metadata": {},
     "output_type": "execute_result"
    }
   ],
   "source": [
    "predict_sentence('the')"
   ]
  },
  {
   "cell_type": "code",
   "execution_count": 25,
   "metadata": {},
   "outputs": [
    {
     "data": {
      "text/plain": [
       "'i shall be hooted at the statue of antigonus that madness'"
      ]
     },
     "execution_count": 25,
     "metadata": {},
     "output_type": "execute_result"
    }
   ],
   "source": [
    "predict_sentence('I shall be')"
   ]
  },
  {
   "cell_type": "code",
   "execution_count": 27,
   "metadata": {},
   "outputs": [
    {
     "data": {
      "text/plain": [
       "'so shaken with heigh the statue of antigonus that madness'"
      ]
     },
     "execution_count": 27,
     "metadata": {},
     "output_type": "execute_result"
    }
   ],
   "source": [
    "predict_sentence('So shaken')"
   ]
  },
  {
   "cell_type": "code",
   "execution_count": 28,
   "metadata": {},
   "outputs": [
    {
     "data": {
      "text/plain": [
       "'when i am lost'"
      ]
     },
     "execution_count": 28,
     "metadata": {},
     "output_type": "execute_result"
    }
   ],
   "source": [
    "predict_sentence('when')"
   ]
  },
  {
   "cell_type": "markdown",
   "metadata": {},
   "source": [
    "# generate new text\n",
    "\n",
    "I then use the sentence prediction to generate new text, to make each sentence different, I randomly choose the first word with probability higher than a threshold, then the rest sentence will followed by the first word. "
   ]
  },
  {
   "cell_type": "code",
   "execution_count": 29,
   "metadata": {},
   "outputs": [],
   "source": [
    "\n",
    "def predict_text(numSentence, first_freq = 0.05):\n",
    "    text = ''\n",
    "    for i in range(numSentence):\n",
    "        possible_words = {k:v for k, v in first_word_dict.items() if v > first_freq}\n",
    "        first_word = random.choice(list(possible_words))\n",
    "        sentence = predict_sentence(first_word)\n",
    "        print(sentence)"
   ]
  },
  {
   "cell_type": "code",
   "execution_count": 30,
   "metadata": {},
   "outputs": [
    {
     "name": "stdout",
     "output_type": "stream",
     "text": [
      "weather\n",
      "heirs of antigonus that madness\n",
      "heirs of antigonus that madness\n",
      "i am lost\n",
      "undiscovered but told me\n",
      "franklins say\n",
      "paulina\n",
      "weather\n",
      "lonely apart\n",
      "excels whatever yet cut off\n"
     ]
    }
   ],
   "source": [
    "predict_text(10)"
   ]
  },
  {
   "cell_type": "code",
   "execution_count": 31,
   "metadata": {},
   "outputs": [
    {
     "name": "stdout",
     "output_type": "stream",
     "text": [
      "franklins say\n",
      "lonely apart\n",
      "weather\n",
      "and maket manifest where is trothplight to interpose fair couple meets hector\n",
      "and maket manifest where is trothplight to interpose fair couple meets hector\n"
     ]
    }
   ],
   "source": [
    "predict_text(5)"
   ]
  },
  {
   "cell_type": "code",
   "execution_count": 32,
   "metadata": {},
   "outputs": [
    {
     "name": "stdout",
     "output_type": "stream",
     "text": [
      "heirs of antigonus that madness\n",
      "lonely apart\n",
      "ape\n"
     ]
    }
   ],
   "source": [
    "predict_text(3)"
   ]
  },
  {
   "cell_type": "markdown",
   "metadata": {},
   "source": [
    "# Conclusion\n",
    "\n",
    "I think my model is not accurate and that may because I only used the 1st order Markov chain and only have few training texts. But there still have some problem that, since I predict the word with maximum probability, so in this case, the predicted word followed by same word would be the same, for example \"the\" always followed by \"status\", and then even the first part of two sentence are different, the rest part are the same. the second problem is when generate new text and randomly pick first words, the same word may be picked multiple times, so the output will have some sentence existed twice. "
   ]
  }
 ],
 "metadata": {
  "kernelspec": {
   "display_name": "Python 3",
   "language": "python",
   "name": "python3"
  },
  "language_info": {
   "codemirror_mode": {
    "name": "ipython",
    "version": 3
   },
   "file_extension": ".py",
   "mimetype": "text/x-python",
   "name": "python",
   "nbconvert_exporter": "python",
   "pygments_lexer": "ipython3",
   "version": "3.7.4"
  }
 },
 "nbformat": 4,
 "nbformat_minor": 2
}
